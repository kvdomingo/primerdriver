{
 "cells": [
  {
   "cell_type": "code",
   "execution_count": 19,
   "metadata": {},
   "outputs": [
    {
     "name": "stdout",
     "output_type": "stream",
     "text": [
      "\n",
      "                 ---.   .------------.\n",
      "                 ||||\\ /||||||||||||||\\    \n",
      "               Primer · Driver v 1.0       \n",
      "         \\|||||||||||/ \\|||||||              \n",
      "          `---------`   `------\n",
      "\n",
      "(c) 2020 Kenneth Domingo & Nomer Gutierrez\n",
      "\n"
     ]
    }
   ],
   "source": [
    "print('')\n",
    "print('                ---.   .------------.')\n",
    "print('                ||||\\ /||||||||||||||\\    ')\n",
    "print('              Primer · Driver v 1.0       ')\n",
    "print('        \\|||||||||||/ \\|||||||              ')\n",
    "print('      `---------`   `------' '\\n')\n",
    "print('(c) 2020 Kenneth Domingo & Nomer Gutierrez\\n')"
   ]
  },
  {
   "cell_type": "code",
   "execution_count": null,
   "metadata": {},
   "outputs": [],
   "source": []
  }
 ],
 "metadata": {
  "kernelspec": {
   "display_name": "Python 3",
   "language": "python",
   "name": "python3"
  },
  "language_info": {
   "codemirror_mode": {
    "name": "ipython",
    "version": 3
   },
   "file_extension": ".py",
   "mimetype": "text/x-python",
   "name": "python",
   "nbconvert_exporter": "python",
   "pygments_lexer": "ipython3",
   "version": "3.7.6"
  }
 },
 "nbformat": 4,
 "nbformat_minor": 4
}
