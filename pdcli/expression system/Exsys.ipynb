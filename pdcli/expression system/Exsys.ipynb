{
 "cells": [
  {
   "cell_type": "code",
   "execution_count": 1,
   "metadata": {},
   "outputs": [],
   "source": [
    "import urllib\n",
    "import requests\n",
    "import pandas\n",
    "from selenium import webdriver\n",
    "import numpy as np\n",
    "import json\n",
    "from bs4 import BeautifulSoup\n",
    "from csv import reader"
   ]
  },
  {
   "cell_type": "code",
   "execution_count": 2,
   "metadata": {},
   "outputs": [],
   "source": [
    "filenames, urls = [], []\n",
    "with open(\"Model Organisms - Sheet1.csv\", \"r\") as f:\n",
    "    file = reader(f)\n",
    "    for f, u in file:\n",
    "        filenames.append(f+\".json\")\n",
    "        urls.append(u)"
   ]
  },
  {
   "cell_type": "code",
   "execution_count": 3,
   "metadata": {},
   "outputs": [
    {
     "name": "stdout",
     "output_type": "stream",
     "text": [
      "Dictyostelium discoideum.json failed to parse\n",
      "Saccharomyces cerevisiae.json failed to parse\n",
      "Schizosaccharomyces pombe.json failed to parse\n",
      "Arabidopsis thaliana.json failed to parse\n",
      "Brachypodium distachyon.json failed to parse\n",
      "Medicago truncatula.json failed to parse\n",
      "Oryza sativa.json failed to parse\n",
      "Caenorhabditis elegans.json failed to parse\n",
      "Drosophila melanogaster.json failed to parse\n",
      "Mus musculus.json failed to parse\n",
      "Rattus norvegicus.json failed to parse\n",
      "Xenopus laevis.json failed to parse\n",
      "Gallus gallus.json failed to parse\n",
      "Danio rerio.json failed to parse\n"
     ]
    }
   ],
   "source": [
    "driver=webdriver.Safari()\n",
    "failed = []\n",
    "for url,filename in zip(urls,filenames):\n",
    "    try:\n",
    "        driver.get(url)\n",
    "        content=driver.page_source\n",
    "        soup=BeautifulSoup(content)\n",
    "        table=[]\n",
    "        for d in soup.findAll(\"pre\"):\n",
    "            table.append(d)\n",
    "        table=str(table[0]).strip(\"<pre>\").strip(\"\\n</\")\n",
    "        split={\n",
    "            \"codon\":[],\n",
    "            \"aminoacid\":[],\n",
    "            \"frequency\":[]\n",
    "        }\n",
    "        for i,t in enumerate(table.split()):\n",
    "            if (i)%6==0:\n",
    "                split[\"codon\"].append(t)\n",
    "            elif (i)%6==1:\n",
    "                split[\"aminoacid\"].append(t)\n",
    "            elif (i)%6==2:\n",
    "                split[\"frequency\"].append(t)\n",
    "        aminoacid,codon=[],[]\n",
    "        for c in np.unique(split[\"aminoacid\"]):\n",
    "            common=(np.asarray(split[\"aminoacid\"]))\n",
    "            common=np.where(common==c)[0]\n",
    "            index=common\n",
    "            common=np.array(split[\"frequency\"])[common]\n",
    "            common=split[\"codon\"][index[common.astype(float).argmax()].astype(int)]\n",
    "            aminoacid.append(c)\n",
    "            codon.append(common)\n",
    "        common=dict(zip(aminoacid,codon))\n",
    "        with open(filename,\"w\") as f:\n",
    "            json.dump(common,f, indent=4, sort_keys=True)\n",
    "    except ValueError:\n",
    "        failed.append(filename)\n",
    "        print(f\"{filename} failed to parse\")"
   ]
  },
  {
   "cell_type": "code",
   "execution_count": null,
   "metadata": {},
   "outputs": [],
   "source": []
  }
 ],
 "metadata": {
  "kernelspec": {
   "display_name": "Python 3",
   "language": "python",
   "name": "python3"
  },
  "language_info": {
   "codemirror_mode": {
    "name": "ipython",
    "version": 3
   },
   "file_extension": ".py",
   "mimetype": "text/x-python",
   "name": "python",
   "nbconvert_exporter": "python",
   "pygments_lexer": "ipython3",
   "version": "3.7.6"
  }
 },
 "nbformat": 4,
 "nbformat_minor": 4
}
